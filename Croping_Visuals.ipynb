{
  "nbformat": 4,
  "nbformat_minor": 0,
  "metadata": {
    "colab": {
      "provenance": []
    },
    "kernelspec": {
      "name": "python3",
      "display_name": "Python 3"
    },
    "language_info": {
      "name": "python"
    }
  },
  "cells": [
    {
      "cell_type": "code",
      "execution_count": null,
      "metadata": {
        "id": "Mn341EvB1OPc"
      },
      "outputs": [],
      "source": [
        "import matplotlib.pyplot as plt\n",
        "import matplotlib.patches as patches\n",
        "from PIL import Image\n",
        "import cv2\n",
        "import numpy as np\n",
        "import os, glob\n",
        "\n",
        "image_name = 'img_012'\n",
        "\n",
        "#im = Image.open('C:/Users/ASUS/Desktop/Image Folder/Diagrams Final/Visual Quality/IACNN/cemetry.png_JPEG_40.jpg',0)\n",
        "# im =  cv2.imread(os.path.join('C:/Users/saymo/OneDrive - iut-dhaka.edu/Concordia/01 Project/03 Datasets/Test Set ModCrop GT/x3/Urban100/Urban100/' + image_name + '.png'))\n",
        "im = cv2.imread(os.path.join(\"C:/Users/saymo/OneDrive - iut-dhaka.edu/Concordia/01 Project/03 Datasets/Test Set ModCrop GT/x3/Urban100/Urban100/\" + image_name + \"_ModX3.png\"))\n",
        "\n",
        "x_new = 200 # Width (px)\n",
        "y_new = 120 # Height (px)\n",
        "x = 230 # Position X\n",
        "y = 220 # Position Y\n",
        "\n",
        "im =  cv2.rectangle(np.array(im),(x, y),(x + x_new,y + y_new),(0,0,255),3)\n",
        "# Create figure and axes\n",
        "fig, ax = plt.subplots()\n",
        "\n",
        "# Display the image\n",
        "ax.imshow(im, cmap = 'gray') # can omit the 'cmap'\n",
        "\n",
        "# Create folder for saving image\n",
        "markup_folder = os.path.join('C:/Users/saymo/OneDrive - iut-dhaka.edu/Concordia/01 Project/10 Output/Marked Image/'+ image_name)\n",
        "if not os.path.exists(markup_folder):\n",
        "    os.makedirs(markup_folder)\n",
        "markup_folder = markup_folder\n",
        "\n",
        "# Saving the image\n",
        "cv2.imwrite(os.path.join('C:/Users/saymo/OneDrive - iut-dhaka.edu/Concordia/01 Project/10 Output/Marked Image/' + image_name + '/' + image_name + '_marked.png'), im)\n"
      ]
    }
  ]
}